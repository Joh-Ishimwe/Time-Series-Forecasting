{
  "cells": [
    {
      "cell_type": "markdown",
      "metadata": {
        "id": "view-in-github",
        "colab_type": "text"
      },
      "source": [
        "<a href=\"https://colab.research.google.com/github/Joh-Ishimwe/Time-Series-Forecasting/blob/master/air_quality_forecasting_notebook_code.ipynb\" target=\"_parent\"><img src=\"https://colab.research.google.com/assets/colab-badge.svg\" alt=\"Open In Colab\"/></a>"
      ]
    },
    {
      "cell_type": "markdown",
      "metadata": {
        "id": "iTsEYdtov6tp"
      },
      "source": [
        "# Beijing Air Quality Forecasting Starter Notebook"
      ]
    },
    {
      "cell_type": "code",
      "execution_count": null,
      "metadata": {
        "id": "nWkSHhqXrCqF"
      },
      "outputs": [],
      "source": [
        "# Import necessary libraries\n",
        "import pandas as pd\n",
        "import numpy as np\n",
        "import matplotlib.pyplot as plt\n",
        "from tensorflow.keras.models import Sequential\n",
        "from tensorflow.keras.layers import LSTM, Dense, Dropout\n",
        "import tensorflow as tf\n",
        "from sklearn.preprocessing import MinMaxScaler, OneHotEncoder\n",
        "from tensorflow.keras.callbacks import EarlyStopping\n",
        "from sklearn.model_selection import TimeSeriesSplit\n",
        "from sklearn.compose import ColumnTransformer\n",
        "from sklearn.pipeline import Pipeline\n",
        "from sklearn.metrics import mean_squared_error\n",
        "from tensorflow.keras.layers import Bidirectional\n",
        "from tensorflow.keras.regularizers import l2\n"
      ]
    },
    {
      "cell_type": "code",
      "execution_count": null,
      "metadata": {
        "colab": {
          "base_uri": "https://localhost:8080/"
        },
        "id": "y_C4HV99rHd5",
        "outputId": "ef50ac68-b194-43bb-b254-a2bb12d9bd80"
      },
      "outputs": [
        {
          "output_type": "stream",
          "name": "stdout",
          "text": [
            "Mounted at /content/drive\n"
          ]
        }
      ],
      "source": [
        "# Mount Google Drive to access datasets\n",
        "from google.colab import drive\n",
        "drive.mount('/content/drive')\n"
      ]
    },
    {
      "cell_type": "code",
      "execution_count": null,
      "metadata": {
        "id": "gxW-6b_jrLAL"
      },
      "outputs": [],
      "source": [
        "# Load the datasets\n",
        "train = pd.read_csv('/content/drive/MyDrive/Kaggle_competition_ML/air_quality_forcasting/train.csv')\n",
        "test = pd.read_csv('/content/drive/MyDrive/Kaggle_competition_ML/air_quality_forcasting/test.csv')\n"
      ]
    },
    {
      "cell_type": "markdown",
      "metadata": {
        "id": "cRse3uqRrft5"
      },
      "source": [
        "# Explore the training data\n",
        "\n",
        "In this sections explore your dataset with appropiate statistics and visualisations to understand your better. Ensure that you explain output of every code cell and what it entails."
      ]
    },
    {
      "cell_type": "code",
      "execution_count": null,
      "metadata": {
        "colab": {
          "base_uri": "https://localhost:8080/",
          "height": 442
        },
        "id": "3R74CEBFrYok",
        "outputId": "1cba2d73-ec4e-4634-cf56-831d279b12b7"
      },
      "outputs": [
        {
          "output_type": "stream",
          "name": "stdout",
          "text": [
            "Training Data Overview:\n"
          ]
        },
        {
          "output_type": "execute_result",
          "data": {
            "text/plain": [
              "          No      DEWP      TEMP      PRES       Iws        Is        Ir  \\\n",
              "0          1 -1.580878 -1.922250  0.443328 -0.441894 -0.069353 -0.137667   \n",
              "1          2 -1.580878 -2.004228  0.345943 -0.379306 -0.069353 -0.137667   \n",
              "2          3 -1.580878 -1.922250  0.248559 -0.343514 -0.069353 -0.137667   \n",
              "3          4 -1.580878 -2.168183  0.248559 -0.280926 -0.069353 -0.137667   \n",
              "4          5 -1.511594 -2.004228  0.151174 -0.218339 -0.069353 -0.137667   \n",
              "...      ...       ...       ...       ...       ...       ...       ...   \n",
              "30661  30662  1.467633  1.110916 -1.699130 -0.441894 -0.069353 -0.137667   \n",
              "30662  30663  1.467633  1.110916 -1.796514 -0.441894 -0.069353 -0.137667   \n",
              "30663  30664  1.467633  1.110916 -1.796514 -0.379306 -0.069353 -0.137667   \n",
              "30664  30665  1.467633  1.110916 -1.796514 -0.441894 -0.069353 -0.137667   \n",
              "30665  30666  1.467633  1.028938 -1.893899 -0.406101 -0.069353 -0.137667   \n",
              "\n",
              "                  datetime   cbwd_NW   cbwd_SE   cbwd_cv  pm2.5  \n",
              "0      2010-01-01 00:00:00  1.448138 -0.732019 -0.522096    NaN  \n",
              "1      2010-01-01 01:00:00  1.448138 -0.732019 -0.522096    NaN  \n",
              "2      2010-01-01 02:00:00  1.448138 -0.732019 -0.522096    NaN  \n",
              "3      2010-01-01 03:00:00  1.448138 -0.732019 -0.522096    NaN  \n",
              "4      2010-01-01 04:00:00  1.448138 -0.732019 -0.522096    NaN  \n",
              "...                    ...       ...       ...       ...    ...  \n",
              "30661  2013-07-01 13:00:00  1.448138 -0.732019 -0.522096  172.0  \n",
              "30662  2013-07-01 14:00:00 -0.690542  1.366085 -0.522096  183.0  \n",
              "30663  2013-07-01 15:00:00 -0.690542  1.366085 -0.522096  195.0  \n",
              "30664  2013-07-01 16:00:00 -0.690542 -0.732019 -0.522096  191.0  \n",
              "30665  2013-07-01 17:00:00 -0.690542 -0.732019 -0.522096  193.0  \n",
              "\n",
              "[30666 rows x 12 columns]"
            ],
            "text/html": [
              "\n",
              "  <div id=\"df-b394a136-f459-4a86-95fc-165cc56230d0\" class=\"colab-df-container\">\n",
              "    <div>\n",
              "<style scoped>\n",
              "    .dataframe tbody tr th:only-of-type {\n",
              "        vertical-align: middle;\n",
              "    }\n",
              "\n",
              "    .dataframe tbody tr th {\n",
              "        vertical-align: top;\n",
              "    }\n",
              "\n",
              "    .dataframe thead th {\n",
              "        text-align: right;\n",
              "    }\n",
              "</style>\n",
              "<table border=\"1\" class=\"dataframe\">\n",
              "  <thead>\n",
              "    <tr style=\"text-align: right;\">\n",
              "      <th></th>\n",
              "      <th>No</th>\n",
              "      <th>DEWP</th>\n",
              "      <th>TEMP</th>\n",
              "      <th>PRES</th>\n",
              "      <th>Iws</th>\n",
              "      <th>Is</th>\n",
              "      <th>Ir</th>\n",
              "      <th>datetime</th>\n",
              "      <th>cbwd_NW</th>\n",
              "      <th>cbwd_SE</th>\n",
              "      <th>cbwd_cv</th>\n",
              "      <th>pm2.5</th>\n",
              "    </tr>\n",
              "  </thead>\n",
              "  <tbody>\n",
              "    <tr>\n",
              "      <th>0</th>\n",
              "      <td>1</td>\n",
              "      <td>-1.580878</td>\n",
              "      <td>-1.922250</td>\n",
              "      <td>0.443328</td>\n",
              "      <td>-0.441894</td>\n",
              "      <td>-0.069353</td>\n",
              "      <td>-0.137667</td>\n",
              "      <td>2010-01-01 00:00:00</td>\n",
              "      <td>1.448138</td>\n",
              "      <td>-0.732019</td>\n",
              "      <td>-0.522096</td>\n",
              "      <td>NaN</td>\n",
              "    </tr>\n",
              "    <tr>\n",
              "      <th>1</th>\n",
              "      <td>2</td>\n",
              "      <td>-1.580878</td>\n",
              "      <td>-2.004228</td>\n",
              "      <td>0.345943</td>\n",
              "      <td>-0.379306</td>\n",
              "      <td>-0.069353</td>\n",
              "      <td>-0.137667</td>\n",
              "      <td>2010-01-01 01:00:00</td>\n",
              "      <td>1.448138</td>\n",
              "      <td>-0.732019</td>\n",
              "      <td>-0.522096</td>\n",
              "      <td>NaN</td>\n",
              "    </tr>\n",
              "    <tr>\n",
              "      <th>2</th>\n",
              "      <td>3</td>\n",
              "      <td>-1.580878</td>\n",
              "      <td>-1.922250</td>\n",
              "      <td>0.248559</td>\n",
              "      <td>-0.343514</td>\n",
              "      <td>-0.069353</td>\n",
              "      <td>-0.137667</td>\n",
              "      <td>2010-01-01 02:00:00</td>\n",
              "      <td>1.448138</td>\n",
              "      <td>-0.732019</td>\n",
              "      <td>-0.522096</td>\n",
              "      <td>NaN</td>\n",
              "    </tr>\n",
              "    <tr>\n",
              "      <th>3</th>\n",
              "      <td>4</td>\n",
              "      <td>-1.580878</td>\n",
              "      <td>-2.168183</td>\n",
              "      <td>0.248559</td>\n",
              "      <td>-0.280926</td>\n",
              "      <td>-0.069353</td>\n",
              "      <td>-0.137667</td>\n",
              "      <td>2010-01-01 03:00:00</td>\n",
              "      <td>1.448138</td>\n",
              "      <td>-0.732019</td>\n",
              "      <td>-0.522096</td>\n",
              "      <td>NaN</td>\n",
              "    </tr>\n",
              "    <tr>\n",
              "      <th>4</th>\n",
              "      <td>5</td>\n",
              "      <td>-1.511594</td>\n",
              "      <td>-2.004228</td>\n",
              "      <td>0.151174</td>\n",
              "      <td>-0.218339</td>\n",
              "      <td>-0.069353</td>\n",
              "      <td>-0.137667</td>\n",
              "      <td>2010-01-01 04:00:00</td>\n",
              "      <td>1.448138</td>\n",
              "      <td>-0.732019</td>\n",
              "      <td>-0.522096</td>\n",
              "      <td>NaN</td>\n",
              "    </tr>\n",
              "    <tr>\n",
              "      <th>...</th>\n",
              "      <td>...</td>\n",
              "      <td>...</td>\n",
              "      <td>...</td>\n",
              "      <td>...</td>\n",
              "      <td>...</td>\n",
              "      <td>...</td>\n",
              "      <td>...</td>\n",
              "      <td>...</td>\n",
              "      <td>...</td>\n",
              "      <td>...</td>\n",
              "      <td>...</td>\n",
              "      <td>...</td>\n",
              "    </tr>\n",
              "    <tr>\n",
              "      <th>30661</th>\n",
              "      <td>30662</td>\n",
              "      <td>1.467633</td>\n",
              "      <td>1.110916</td>\n",
              "      <td>-1.699130</td>\n",
              "      <td>-0.441894</td>\n",
              "      <td>-0.069353</td>\n",
              "      <td>-0.137667</td>\n",
              "      <td>2013-07-01 13:00:00</td>\n",
              "      <td>1.448138</td>\n",
              "      <td>-0.732019</td>\n",
              "      <td>-0.522096</td>\n",
              "      <td>172.0</td>\n",
              "    </tr>\n",
              "    <tr>\n",
              "      <th>30662</th>\n",
              "      <td>30663</td>\n",
              "      <td>1.467633</td>\n",
              "      <td>1.110916</td>\n",
              "      <td>-1.796514</td>\n",
              "      <td>-0.441894</td>\n",
              "      <td>-0.069353</td>\n",
              "      <td>-0.137667</td>\n",
              "      <td>2013-07-01 14:00:00</td>\n",
              "      <td>-0.690542</td>\n",
              "      <td>1.366085</td>\n",
              "      <td>-0.522096</td>\n",
              "      <td>183.0</td>\n",
              "    </tr>\n",
              "    <tr>\n",
              "      <th>30663</th>\n",
              "      <td>30664</td>\n",
              "      <td>1.467633</td>\n",
              "      <td>1.110916</td>\n",
              "      <td>-1.796514</td>\n",
              "      <td>-0.379306</td>\n",
              "      <td>-0.069353</td>\n",
              "      <td>-0.137667</td>\n",
              "      <td>2013-07-01 15:00:00</td>\n",
              "      <td>-0.690542</td>\n",
              "      <td>1.366085</td>\n",
              "      <td>-0.522096</td>\n",
              "      <td>195.0</td>\n",
              "    </tr>\n",
              "    <tr>\n",
              "      <th>30664</th>\n",
              "      <td>30665</td>\n",
              "      <td>1.467633</td>\n",
              "      <td>1.110916</td>\n",
              "      <td>-1.796514</td>\n",
              "      <td>-0.441894</td>\n",
              "      <td>-0.069353</td>\n",
              "      <td>-0.137667</td>\n",
              "      <td>2013-07-01 16:00:00</td>\n",
              "      <td>-0.690542</td>\n",
              "      <td>-0.732019</td>\n",
              "      <td>-0.522096</td>\n",
              "      <td>191.0</td>\n",
              "    </tr>\n",
              "    <tr>\n",
              "      <th>30665</th>\n",
              "      <td>30666</td>\n",
              "      <td>1.467633</td>\n",
              "      <td>1.028938</td>\n",
              "      <td>-1.893899</td>\n",
              "      <td>-0.406101</td>\n",
              "      <td>-0.069353</td>\n",
              "      <td>-0.137667</td>\n",
              "      <td>2013-07-01 17:00:00</td>\n",
              "      <td>-0.690542</td>\n",
              "      <td>-0.732019</td>\n",
              "      <td>-0.522096</td>\n",
              "      <td>193.0</td>\n",
              "    </tr>\n",
              "  </tbody>\n",
              "</table>\n",
              "<p>30666 rows × 12 columns</p>\n",
              "</div>\n",
              "    <div class=\"colab-df-buttons\">\n",
              "\n",
              "  <div class=\"colab-df-container\">\n",
              "    <button class=\"colab-df-convert\" onclick=\"convertToInteractive('df-b394a136-f459-4a86-95fc-165cc56230d0')\"\n",
              "            title=\"Convert this dataframe to an interactive table.\"\n",
              "            style=\"display:none;\">\n",
              "\n",
              "  <svg xmlns=\"http://www.w3.org/2000/svg\" height=\"24px\" viewBox=\"0 -960 960 960\">\n",
              "    <path d=\"M120-120v-720h720v720H120Zm60-500h600v-160H180v160Zm220 220h160v-160H400v160Zm0 220h160v-160H400v160ZM180-400h160v-160H180v160Zm440 0h160v-160H620v160ZM180-180h160v-160H180v160Zm440 0h160v-160H620v160Z\"/>\n",
              "  </svg>\n",
              "    </button>\n",
              "\n",
              "  <style>\n",
              "    .colab-df-container {\n",
              "      display:flex;\n",
              "      gap: 12px;\n",
              "    }\n",
              "\n",
              "    .colab-df-convert {\n",
              "      background-color: #E8F0FE;\n",
              "      border: none;\n",
              "      border-radius: 50%;\n",
              "      cursor: pointer;\n",
              "      display: none;\n",
              "      fill: #1967D2;\n",
              "      height: 32px;\n",
              "      padding: 0 0 0 0;\n",
              "      width: 32px;\n",
              "    }\n",
              "\n",
              "    .colab-df-convert:hover {\n",
              "      background-color: #E2EBFA;\n",
              "      box-shadow: 0px 1px 2px rgba(60, 64, 67, 0.3), 0px 1px 3px 1px rgba(60, 64, 67, 0.15);\n",
              "      fill: #174EA6;\n",
              "    }\n",
              "\n",
              "    .colab-df-buttons div {\n",
              "      margin-bottom: 4px;\n",
              "    }\n",
              "\n",
              "    [theme=dark] .colab-df-convert {\n",
              "      background-color: #3B4455;\n",
              "      fill: #D2E3FC;\n",
              "    }\n",
              "\n",
              "    [theme=dark] .colab-df-convert:hover {\n",
              "      background-color: #434B5C;\n",
              "      box-shadow: 0px 1px 3px 1px rgba(0, 0, 0, 0.15);\n",
              "      filter: drop-shadow(0px 1px 2px rgba(0, 0, 0, 0.3));\n",
              "      fill: #FFFFFF;\n",
              "    }\n",
              "  </style>\n",
              "\n",
              "    <script>\n",
              "      const buttonEl =\n",
              "        document.querySelector('#df-b394a136-f459-4a86-95fc-165cc56230d0 button.colab-df-convert');\n",
              "      buttonEl.style.display =\n",
              "        google.colab.kernel.accessAllowed ? 'block' : 'none';\n",
              "\n",
              "      async function convertToInteractive(key) {\n",
              "        const element = document.querySelector('#df-b394a136-f459-4a86-95fc-165cc56230d0');\n",
              "        const dataTable =\n",
              "          await google.colab.kernel.invokeFunction('convertToInteractive',\n",
              "                                                    [key], {});\n",
              "        if (!dataTable) return;\n",
              "\n",
              "        const docLinkHtml = 'Like what you see? Visit the ' +\n",
              "          '<a target=\"_blank\" href=https://colab.research.google.com/notebooks/data_table.ipynb>data table notebook</a>'\n",
              "          + ' to learn more about interactive tables.';\n",
              "        element.innerHTML = '';\n",
              "        dataTable['output_type'] = 'display_data';\n",
              "        await google.colab.output.renderOutput(dataTable, element);\n",
              "        const docLink = document.createElement('div');\n",
              "        docLink.innerHTML = docLinkHtml;\n",
              "        element.appendChild(docLink);\n",
              "      }\n",
              "    </script>\n",
              "  </div>\n",
              "\n",
              "\n",
              "    <div id=\"df-0f6ba579-5521-4a9a-9c84-a2fe80122c62\">\n",
              "      <button class=\"colab-df-quickchart\" onclick=\"quickchart('df-0f6ba579-5521-4a9a-9c84-a2fe80122c62')\"\n",
              "                title=\"Suggest charts\"\n",
              "                style=\"display:none;\">\n",
              "\n",
              "<svg xmlns=\"http://www.w3.org/2000/svg\" height=\"24px\"viewBox=\"0 0 24 24\"\n",
              "     width=\"24px\">\n",
              "    <g>\n",
              "        <path d=\"M19 3H5c-1.1 0-2 .9-2 2v14c0 1.1.9 2 2 2h14c1.1 0 2-.9 2-2V5c0-1.1-.9-2-2-2zM9 17H7v-7h2v7zm4 0h-2V7h2v10zm4 0h-2v-4h2v4z\"/>\n",
              "    </g>\n",
              "</svg>\n",
              "      </button>\n",
              "\n",
              "<style>\n",
              "  .colab-df-quickchart {\n",
              "      --bg-color: #E8F0FE;\n",
              "      --fill-color: #1967D2;\n",
              "      --hover-bg-color: #E2EBFA;\n",
              "      --hover-fill-color: #174EA6;\n",
              "      --disabled-fill-color: #AAA;\n",
              "      --disabled-bg-color: #DDD;\n",
              "  }\n",
              "\n",
              "  [theme=dark] .colab-df-quickchart {\n",
              "      --bg-color: #3B4455;\n",
              "      --fill-color: #D2E3FC;\n",
              "      --hover-bg-color: #434B5C;\n",
              "      --hover-fill-color: #FFFFFF;\n",
              "      --disabled-bg-color: #3B4455;\n",
              "      --disabled-fill-color: #666;\n",
              "  }\n",
              "\n",
              "  .colab-df-quickchart {\n",
              "    background-color: var(--bg-color);\n",
              "    border: none;\n",
              "    border-radius: 50%;\n",
              "    cursor: pointer;\n",
              "    display: none;\n",
              "    fill: var(--fill-color);\n",
              "    height: 32px;\n",
              "    padding: 0;\n",
              "    width: 32px;\n",
              "  }\n",
              "\n",
              "  .colab-df-quickchart:hover {\n",
              "    background-color: var(--hover-bg-color);\n",
              "    box-shadow: 0 1px 2px rgba(60, 64, 67, 0.3), 0 1px 3px 1px rgba(60, 64, 67, 0.15);\n",
              "    fill: var(--button-hover-fill-color);\n",
              "  }\n",
              "\n",
              "  .colab-df-quickchart-complete:disabled,\n",
              "  .colab-df-quickchart-complete:disabled:hover {\n",
              "    background-color: var(--disabled-bg-color);\n",
              "    fill: var(--disabled-fill-color);\n",
              "    box-shadow: none;\n",
              "  }\n",
              "\n",
              "  .colab-df-spinner {\n",
              "    border: 2px solid var(--fill-color);\n",
              "    border-color: transparent;\n",
              "    border-bottom-color: var(--fill-color);\n",
              "    animation:\n",
              "      spin 1s steps(1) infinite;\n",
              "  }\n",
              "\n",
              "  @keyframes spin {\n",
              "    0% {\n",
              "      border-color: transparent;\n",
              "      border-bottom-color: var(--fill-color);\n",
              "      border-left-color: var(--fill-color);\n",
              "    }\n",
              "    20% {\n",
              "      border-color: transparent;\n",
              "      border-left-color: var(--fill-color);\n",
              "      border-top-color: var(--fill-color);\n",
              "    }\n",
              "    30% {\n",
              "      border-color: transparent;\n",
              "      border-left-color: var(--fill-color);\n",
              "      border-top-color: var(--fill-color);\n",
              "      border-right-color: var(--fill-color);\n",
              "    }\n",
              "    40% {\n",
              "      border-color: transparent;\n",
              "      border-right-color: var(--fill-color);\n",
              "      border-top-color: var(--fill-color);\n",
              "    }\n",
              "    60% {\n",
              "      border-color: transparent;\n",
              "      border-right-color: var(--fill-color);\n",
              "    }\n",
              "    80% {\n",
              "      border-color: transparent;\n",
              "      border-right-color: var(--fill-color);\n",
              "      border-bottom-color: var(--fill-color);\n",
              "    }\n",
              "    90% {\n",
              "      border-color: transparent;\n",
              "      border-bottom-color: var(--fill-color);\n",
              "    }\n",
              "  }\n",
              "</style>\n",
              "\n",
              "      <script>\n",
              "        async function quickchart(key) {\n",
              "          const quickchartButtonEl =\n",
              "            document.querySelector('#' + key + ' button');\n",
              "          quickchartButtonEl.disabled = true;  // To prevent multiple clicks.\n",
              "          quickchartButtonEl.classList.add('colab-df-spinner');\n",
              "          try {\n",
              "            const charts = await google.colab.kernel.invokeFunction(\n",
              "                'suggestCharts', [key], {});\n",
              "          } catch (error) {\n",
              "            console.error('Error during call to suggestCharts:', error);\n",
              "          }\n",
              "          quickchartButtonEl.classList.remove('colab-df-spinner');\n",
              "          quickchartButtonEl.classList.add('colab-df-quickchart-complete');\n",
              "        }\n",
              "        (() => {\n",
              "          let quickchartButtonEl =\n",
              "            document.querySelector('#df-0f6ba579-5521-4a9a-9c84-a2fe80122c62 button');\n",
              "          quickchartButtonEl.style.display =\n",
              "            google.colab.kernel.accessAllowed ? 'block' : 'none';\n",
              "        })();\n",
              "      </script>\n",
              "    </div>\n",
              "\n",
              "    </div>\n",
              "  </div>\n"
            ],
            "application/vnd.google.colaboratory.intrinsic+json": {
              "type": "dataframe",
              "variable_name": "train",
              "summary": "{\n  \"name\": \"train\",\n  \"rows\": 30676,\n  \"fields\": [\n    {\n      \"column\": \"No\",\n      \"properties\": {\n        \"dtype\": \"number\",\n        \"std\": 8855,\n        \"min\": 1,\n        \"max\": 30676,\n        \"num_unique_values\": 30676,\n        \"samples\": [\n          21374,\n          25090,\n          28569\n        ],\n        \"semantic_type\": \"\",\n        \"description\": \"\"\n      }\n    },\n    {\n      \"column\": \"DEWP\",\n      \"properties\": {\n        \"dtype\": \"number\",\n        \"std\": 0.9940868685872691,\n        \"min\": -2.135152624594259,\n        \"max\": 1.8140548608485263,\n        \"num_unique_values\": 58,\n        \"samples\": [\n          -1.5808778897952718,\n          -1.234456180545905,\n          0.4283680238510577\n        ],\n        \"semantic_type\": \"\",\n        \"description\": \"\"\n      }\n    },\n    {\n      \"column\": \"TEMP\",\n      \"properties\": {\n        \"dtype\": \"number\",\n        \"std\": 1.0151931988363345,\n        \"min\": -2.57807020448326,\n        \"max\": 2.340577973195197,\n        \"num_unique_values\": 61,\n        \"samples\": [\n          -1.922250447459466,\n          -1.6763180385755432,\n          1.5208032769154538\n        ],\n        \"semantic_type\": \"\",\n        \"description\": \"\"\n      }\n    },\n    {\n      \"column\": \"PRES\",\n      \"properties\": {\n        \"dtype\": \"number\",\n        \"std\": 1.0089910718128012,\n        \"min\": -2.3808211400906933,\n        \"max\": 2.877938666983153,\n        \"num_unique_values\": 59,\n        \"samples\": [\n          0.4433276451897058,\n          -0.1409790000407216,\n          -1.2122078496298383\n        ],\n        \"semantic_type\": \"\",\n        \"description\": \"\"\n      }\n    },\n    {\n      \"column\": \"Iws\",\n      \"properties\": {\n        \"dtype\": \"number\",\n        \"std\": 1.0183373570630927,\n        \"min\": -0.468688451918825,\n        \"max\": 11.23195642426876,\n        \"num_unique_values\": 2454,\n        \"samples\": [\n          0.091798732357921,\n          1.587097756268555,\n          3.9218278182076514\n        ],\n        \"semantic_type\": \"\",\n        \"description\": \"\"\n      }\n    },\n    {\n      \"column\": \"Is\",\n      \"properties\": {\n        \"dtype\": \"number\",\n        \"std\": 1.0872775725916504,\n        \"min\": -0.0693529927507349,\n        \"max\": 35.439859454813806,\n        \"num_unique_values\": 28,\n        \"samples\": [\n          11.767051156437446,\n          35.439859454813806,\n          10.451895139860982\n        ],\n        \"semantic_type\": \"\",\n        \"description\": \"\"\n      }\n    },\n    {\n      \"column\": \"Ir\",\n      \"properties\": {\n        \"dtype\": \"number\",\n        \"std\": 1.0638108953278456,\n        \"min\": -0.1376670916056331,\n        \"max\": 25.28874527211593,\n        \"num_unique_values\": 37,\n        \"samples\": [\n          11.869249857929551,\n          9.044092928627157,\n          2.6874898376967638\n        ],\n        \"semantic_type\": \"\",\n        \"description\": \"\"\n      }\n    },\n    {\n      \"column\": \"datetime\",\n      \"properties\": {\n        \"dtype\": \"object\",\n        \"num_unique_values\": 30676,\n        \"samples\": [\n          \"2012-06-09 13:00:00\",\n          \"2012-11-11 09:00:00\",\n          \"2013-04-05 08:00:00\"\n        ],\n        \"semantic_type\": \"\",\n        \"description\": \"\"\n      }\n    },\n    {\n      \"column\": \"cbwd_NW\",\n      \"properties\": {\n        \"dtype\": \"number\",\n        \"std\": 1.0060011316463833,\n        \"min\": -0.6905421199983467,\n        \"max\": 1.4481375879032463,\n        \"num_unique_values\": 2,\n        \"samples\": [\n          -0.6905421199983467,\n          1.4481375879032463\n        ],\n        \"semantic_type\": \"\",\n        \"description\": \"\"\n      }\n    },\n    {\n      \"column\": \"cbwd_SE\",\n      \"properties\": {\n        \"dtype\": \"number\",\n        \"std\": 1.0018468062271315,\n        \"min\": -0.7320191022613816,\n        \"max\": 1.3660845692561323,\n        \"num_unique_values\": 2,\n        \"samples\": [\n          1.3660845692561323,\n          -0.7320191022613816\n        ],\n        \"semantic_type\": \"\",\n        \"description\": \"\"\n      }\n    },\n    {\n      \"column\": \"cbwd_cv\",\n      \"properties\": {\n        \"dtype\": \"number\",\n        \"std\": 0.9821221372732125,\n        \"min\": -0.5220964661088392,\n        \"max\": 1.9153548528166715,\n        \"num_unique_values\": 2,\n        \"samples\": [\n          1.9153548528166715,\n          -0.5220964661088392\n        ],\n        \"semantic_type\": \"\",\n        \"description\": \"\"\n      }\n    },\n    {\n      \"column\": \"pm2.5\",\n      \"properties\": {\n        \"dtype\": \"number\",\n        \"std\": 93.14443341034276,\n        \"min\": 0.0,\n        \"max\": 994.0,\n        \"num_unique_values\": 563,\n        \"samples\": [\n          229.0,\n          514.0\n        ],\n        \"semantic_type\": \"\",\n        \"description\": \"\"\n      }\n    }\n  ]\n}"
            }
          },
          "metadata": {},
          "execution_count": 4
        }
      ],
      "source": [
        "# Inspecting the first few rows of the dataset to understand its structure.\n",
        "print(\"Training Data Overview:\")\n",
        "train.head(-10)"
      ]
    },
    {
      "cell_type": "code",
      "execution_count": null,
      "metadata": {
        "colab": {
          "base_uri": "https://localhost:8080/"
        },
        "id": "-om6hH_RtG8Z",
        "outputId": "a36af6d4-ecf9-4c61-8696-d37b20fe19d2"
      },
      "outputs": [
        {
          "output_type": "execute_result",
          "data": {
            "text/plain": [
              "Index(['No', 'DEWP', 'TEMP', 'PRES', 'Iws', 'Is', 'Ir', 'datetime', 'cbwd_NW',\n",
              "       'cbwd_SE', 'cbwd_cv', 'pm2.5'],\n",
              "      dtype='object')"
            ]
          },
          "metadata": {},
          "execution_count": 5
        }
      ],
      "source": [
        "train.columns"
      ]
    },
    {
      "cell_type": "code",
      "execution_count": null,
      "metadata": {
        "id": "35IGrMYRscQx"
      },
      "outputs": [],
      "source": [
        "# Ensure 'datetime' column is in datetime format\n",
        "train['datetime'] = pd.to_datetime(train['datetime'])\n",
        "test['datetime'] = pd.to_datetime(test['datetime'])\n",
        "\n",
        "\n",
        "# Set the 'datetime' column as the index for better time-series handling\n",
        "train.set_index('datetime', inplace=True)\n",
        "test.set_index('datetime', inplace=True)\n",
        "\n",
        "\n",
        "# Sort by index to ensure chronological order (important for time series)\n",
        "train.sort_index(inplace=True)\n",
        "test.sort_index(inplace=True)"
      ]
    },
    {
      "cell_type": "markdown",
      "metadata": {
        "id": "ABAqt0Jztd5s"
      },
      "source": [
        "# Handle missing values\n",
        "\n",
        "\n",
        "\n",
        "\n",
        "\n",
        "- Check the dataset for missing values and decide how to handle them.\n",
        "- In this example, missing values are filled with the mean. You can experiment with other strategies."
      ]
    },
    {
      "cell_type": "code",
      "execution_count": null,
      "metadata": {
        "colab": {
          "base_uri": "https://localhost:8080/"
        },
        "id": "kh4mGs-x6CZi",
        "outputId": "49cf3732-21f6-472f-fb1b-6b0c29cbc88a"
      },
      "outputs": [
        {
          "output_type": "stream",
          "name": "stdout",
          "text": [
            "\n",
            "Missing values in training data:\n",
            "No            0\n",
            "DEWP          0\n",
            "TEMP          0\n",
            "PRES          0\n",
            "Iws           0\n",
            "Is            0\n",
            "Ir            0\n",
            "cbwd_NW       0\n",
            "cbwd_SE       0\n",
            "cbwd_cv       0\n",
            "pm2.5      1921\n",
            "dtype: int64\n"
          ]
        }
      ],
      "source": [
        "# Check for missing values\n",
        "print(\"\\nMissing values in training data:\")\n",
        "print(train.isnull().sum())"
      ]
    },
    {
      "cell_type": "code",
      "execution_count": null,
      "metadata": {
        "colab": {
          "base_uri": "https://localhost:8080/"
        },
        "id": "_AQxDSzW6bvp",
        "outputId": "6da1203b-850e-4b7a-b700-bfee27e1b371"
      },
      "outputs": [
        {
          "output_type": "stream",
          "name": "stdout",
          "text": [
            "\n",
            "Train info:\n",
            "<class 'pandas.core.frame.DataFrame'>\n",
            "DatetimeIndex: 30676 entries, 2010-01-01 00:00:00 to 2013-07-02 03:00:00\n",
            "Data columns (total 11 columns):\n",
            " #   Column   Non-Null Count  Dtype  \n",
            "---  ------   --------------  -----  \n",
            " 0   No       30676 non-null  int64  \n",
            " 1   DEWP     30676 non-null  float64\n",
            " 2   TEMP     30676 non-null  float64\n",
            " 3   PRES     30676 non-null  float64\n",
            " 4   Iws      30676 non-null  float64\n",
            " 5   Is       30676 non-null  float64\n",
            " 6   Ir       30676 non-null  float64\n",
            " 7   cbwd_NW  30676 non-null  float64\n",
            " 8   cbwd_SE  30676 non-null  float64\n",
            " 9   cbwd_cv  30676 non-null  float64\n",
            " 10  pm2.5    28755 non-null  float64\n",
            "dtypes: float64(10), int64(1)\n",
            "memory usage: 2.8 MB\n"
          ]
        }
      ],
      "source": [
        "# Check data types and info\n",
        "print(\"\\nTrain info:\")\n",
        "train.info()"
      ]
    },
    {
      "cell_type": "code",
      "execution_count": null,
      "metadata": {
        "colab": {
          "base_uri": "https://localhost:8080/",
          "height": 487
        },
        "id": "T7V1j41865NR",
        "outputId": "b0d5bff5-ef67-4aa4-84c8-8115066d43c7"
      },
      "outputs": [
        {
          "output_type": "display_data",
          "data": {
            "text/plain": [
              "<Figure size 1500x500 with 1 Axes>"
            ],
            "image/png": "[encoded data removed]"
          },
          "metadata": {}
        }
      ],
      "source": [
        "# Plot PM2.5 over time\n",
        "plt.figure(figsize=(15, 5))\n",
        "plt.plot(train.index, train['pm2.5'])\n",
        "plt.title('PM2.5 Over Time')\n",
        "plt.xlabel('Date')\n",
        "plt.ylabel('PM2.5')\n",
        "plt.grid(True)\n",
        "plt.show()"
      ]
    },
    {
      "cell_type": "code",
      "execution_count": null,
      "metadata": {
        "colab": {
          "base_uri": "https://localhost:8080/",
          "height": 1000
        },
        "id": "2LVabA4RSE4k",
        "outputId": "4e5c62ba-0982-4e39-a124-16766ec6342a"
      },
      "outputs": [
        {
          "output_type": "stream",
          "name": "stdout",
          "text": [
            "                     No      DEWP      TEMP      PRES       Iws        Is  \\\n",
            "datetime                                                                    \n",
            "2010-01-01 00:00:00   1 -1.580878 -1.922250  0.443328 -0.441894 -0.069353   \n",
            "2010-01-01 01:00:00   2 -1.580878 -2.004228  0.345943 -0.379306 -0.069353   \n",
            "2010-01-01 02:00:00   3 -1.580878 -1.922250  0.248559 -0.343514 -0.069353   \n",
            "2010-01-01 03:00:00   4 -1.580878 -2.168183  0.248559 -0.280926 -0.069353   \n",
            "2010-01-01 04:00:00   5 -1.511594 -2.004228  0.151174 -0.218339 -0.069353   \n",
            "2010-01-01 05:00:00   6 -1.442309 -1.840273  0.053790 -0.155751 -0.069353   \n",
            "2010-01-01 06:00:00   7 -1.442309 -1.758296  0.053790 -0.093164 -0.069353   \n",
            "2010-01-01 07:00:00   8 -1.442309 -1.758296  0.053790 -0.057371 -0.069353   \n",
            "2010-01-01 08:00:00   9 -1.442309 -1.758296  0.053790  0.005216 -0.069353   \n",
            "2010-01-01 09:00:00  10 -1.511594 -1.676318  0.053790  0.067804 -0.069353   \n",
            "\n",
            "                           Ir   cbwd_NW   cbwd_SE   cbwd_cv  pm2.5  \n",
            "datetime                                                            \n",
            "2010-01-01 00:00:00 -0.137667  1.448138 -0.732019 -0.522096    NaN  \n",
            "2010-01-01 01:00:00 -0.137667  1.448138 -0.732019 -0.522096    NaN  \n",
            "2010-01-01 02:00:00 -0.137667  1.448138 -0.732019 -0.522096    NaN  \n",
            "2010-01-01 03:00:00 -0.137667  1.448138 -0.732019 -0.522096    NaN  \n",
            "2010-01-01 04:00:00 -0.137667  1.448138 -0.732019 -0.522096    NaN  \n",
            "2010-01-01 05:00:00 -0.137667  1.448138 -0.732019 -0.522096    NaN  \n",
            "2010-01-01 06:00:00 -0.137667  1.448138 -0.732019 -0.522096    NaN  \n",
            "2010-01-01 07:00:00 -0.137667  1.448138 -0.732019 -0.522096    NaN  \n",
            "2010-01-01 08:00:00 -0.137667  1.448138 -0.732019 -0.522096    NaN  \n",
            "2010-01-01 09:00:00 -0.137667  1.448138 -0.732019 -0.522096    NaN  \n",
            "                        No      DEWP      TEMP      PRES       Iws        Is  \\\n",
            "datetime                                                                       \n",
            "2013-05-18 01:00:00  29594  0.844074  0.537074 -0.725286  0.282160 -0.069353   \n",
            "2013-05-18 02:00:00  29595  0.844074  0.455096 -0.725286  0.317953 -0.069353   \n",
            "2013-05-18 03:00:00  29596  0.844074  0.455096 -0.822670  0.353746 -0.069353   \n",
            "2013-05-18 04:00:00  29597  0.774790  0.373119 -0.822670 -0.459890 -0.069353   \n",
            "2013-05-18 05:00:00  29598  0.774790  0.373119 -0.822670 -0.441894 -0.069353   \n",
            "2013-05-18 06:00:00  29599  0.774790  0.373119 -0.822670 -0.459890 -0.069353   \n",
            "2013-05-18 07:00:00  29600  0.844074  0.537074 -0.822670 -0.415099 -0.069353   \n",
            "2013-05-28 13:00:00  29846  0.913358  0.783006 -1.114823 -0.200542 -0.069353   \n",
            "2013-06-20 11:00:00  30396  0.913358  1.438826 -0.920055 -0.298923 -0.069353   \n",
            "2013-06-20 12:00:00  30397  0.844074  1.520803 -0.920055 -0.236335 -0.069353   \n",
            "\n",
            "                           Ir   cbwd_NW   cbwd_SE   cbwd_cv  pm2.5  \n",
            "datetime                                                            \n",
            "2013-05-18 01:00:00 -0.137667 -0.690542  1.366085 -0.522096    NaN  \n",
            "2013-05-18 02:00:00 -0.137667 -0.690542  1.366085 -0.522096    NaN  \n",
            "2013-05-18 03:00:00 -0.137667 -0.690542  1.366085 -0.522096    NaN  \n",
            "2013-05-18 04:00:00 -0.137667 -0.690542 -0.732019  1.915355    NaN  \n",
            "2013-05-18 05:00:00 -0.137667 -0.690542  1.366085 -0.522096    NaN  \n",
            "2013-05-18 06:00:00 -0.137667 -0.690542 -0.732019  1.915355    NaN  \n",
            "2013-05-18 07:00:00 -0.137667 -0.690542  1.366085 -0.522096    NaN  \n",
            "2013-05-28 13:00:00 -0.137667  1.448138 -0.732019 -0.522096    NaN  \n",
            "2013-06-20 11:00:00 -0.137667 -0.690542 -0.732019 -0.522096    NaN  \n",
            "2013-06-20 12:00:00 -0.137667 -0.690542 -0.732019 -0.522096    NaN  \n"
          ]
        },
        {
          "output_type": "display_data",
          "data": {
            "text/plain": [
              "<Figure size 1200x400 with 1 Axes>"
            ],
            "image/png": "[encoded data removed]"
          },
          "metadata": {}
        }
      ],
      "source": [
        "# Check where the missing values occur\n",
        "missing = train[train['pm2.5'].isnull()]\n",
        "print(missing.head(10))\n",
        "print(missing.tail(10))\n",
        "\n",
        "# Or plot to see it clearly\n",
        "import matplotlib.pyplot as plt\n",
        "train['pm2.5'].isnull().astype(int).plot(figsize=(12, 4), title=\"Missing pm2.5 over time\")\n",
        "plt.show()\n"
      ]
    },
    {
      "cell_type": "code",
      "execution_count": null,
      "metadata": {
        "colab": {
          "base_uri": "https://localhost:8080/"
        },
        "id": "tNeg1tTbS1v3",
        "outputId": "9bb43328-abe2-4adc-bc63-48237dbd478d"
      },
      "outputs": [
        {
          "output_type": "stream",
          "name": "stdout",
          "text": [
            "24\n"
          ]
        },
        {
          "output_type": "stream",
          "name": "stderr",
          "text": [
            "<ipython-input-11-3bd8a8908d0e>:5: FutureWarning: Series.fillna with 'method' is deprecated and will raise in a future version. Use obj.ffill() or obj.bfill() instead.\n",
            "  train['pm2.5'] = train['pm2.5'].fillna(method='ffill')\n"
          ]
        }
      ],
      "source": [
        "# Handle missing values\n",
        "\n",
        "# Step 1: Backfill only the starting block\n",
        "# train['pm2.5'] = train['pm2.5'].fillna(method='bfill', limit=24)\n",
        "train['pm2.5'] = train['pm2.5'].fillna(method='ffill')\n",
        "\n",
        "# Step 2: Time-based interpolation for the rest\n",
        "train['pm2.5'] = train['pm2.5'].interpolate(method='time')\n",
        "\n",
        "# Confirm no missing values\n",
        "print(train['pm2.5'].isnull().sum())\n"
      ]
    },
    {
      "cell_type": "code",
      "execution_count": null,
      "metadata": {
        "colab": {
          "base_uri": "https://localhost:8080/"
        },
        "id": "Aa-KZvHf4Q1w",
        "outputId": "b36d4eb3-1319-4354-e035-cb1689eae145"
      },
      "outputs": [
        {
          "output_type": "stream",
          "name": "stdout",
          "text": [
            "\n",
            "Training data with new time features:\n",
            "                     No      DEWP      TEMP      PRES       Iws        Is  \\\n",
            "datetime                                                                    \n",
            "2010-01-01 00:00:00   1 -1.580878 -1.922250  0.443328 -0.441894 -0.069353   \n",
            "2010-01-01 01:00:00   2 -1.580878 -2.004228  0.345943 -0.379306 -0.069353   \n",
            "2010-01-01 02:00:00   3 -1.580878 -1.922250  0.248559 -0.343514 -0.069353   \n",
            "2010-01-01 03:00:00   4 -1.580878 -2.168183  0.248559 -0.280926 -0.069353   \n",
            "2010-01-01 04:00:00   5 -1.511594 -2.004228  0.151174 -0.218339 -0.069353   \n",
            "\n",
            "                           Ir   cbwd_NW   cbwd_SE   cbwd_cv  pm2.5  hour  \\\n",
            "datetime                                                                   \n",
            "2010-01-01 00:00:00 -0.137667  1.448138 -0.732019 -0.522096    NaN     0   \n",
            "2010-01-01 01:00:00 -0.137667  1.448138 -0.732019 -0.522096    NaN     1   \n",
            "2010-01-01 02:00:00 -0.137667  1.448138 -0.732019 -0.522096    NaN     2   \n",
            "2010-01-01 03:00:00 -0.137667  1.448138 -0.732019 -0.522096    NaN     3   \n",
            "2010-01-01 04:00:00 -0.137667  1.448138 -0.732019 -0.522096    NaN     4   \n",
            "\n",
            "                     dayofweek  month  quarter  year  \n",
            "datetime                                              \n",
            "2010-01-01 00:00:00          4      1        1  2010  \n",
            "2010-01-01 01:00:00          4      1        1  2010  \n",
            "2010-01-01 02:00:00          4      1        1  2010  \n",
            "2010-01-01 03:00:00          4      1        1  2010  \n",
            "2010-01-01 04:00:00          4      1        1  2010  \n"
          ]
        }
      ],
      "source": [
        "# # Feature Engineering\n",
        "#\n",
        "# Create new features from the datetime index.\n",
        "def create_time_features(df):\n",
        "    df['hour'] = df.index.hour\n",
        "    df['dayofweek'] = df.index.dayofweek\n",
        "    df['month'] = df.index.month\n",
        "    df['quarter'] = df.index.quarter\n",
        "    df['year'] = df.index.year\n",
        "    return df\n",
        "\n",
        "train = create_time_features(train)\n",
        "test = create_time_features(test)\n",
        "\n",
        "print(\"\\nTraining data with new time features:\")\n",
        "print(train.head())"
      ]
    },
    {
      "cell_type": "markdown",
      "metadata": {
        "id": "YKndkdRuty1C"
      },
      "source": [
        "# Separate features and target\n",
        "\n",
        "- Feel free to trop any non-essential columns like that you think might not contribute to modeling."
      ]
    },
    {
      "cell_type": "code",
      "execution_count": null,
      "metadata": {
        "colab": {
          "base_uri": "https://localhost:8080/"
        },
        "id": "HwOKstXhFYec",
        "outputId": "0b5054cd-6544-40d1-ef4c-4589fe1b9da8"
      },
      "outputs": [
        {
          "output_type": "stream",
          "name": "stdout",
          "text": [
            "\n",
            "Features for training after adding new features:\n",
            "Index(['DEWP', 'TEMP', 'PRES', 'Iws', 'Is', 'Ir', 'cbwd_NW', 'cbwd_SE',\n",
            "       'cbwd_cv', 'hour', 'dayofweek', 'month', 'quarter', 'year'],\n",
            "      dtype='object')\n"
          ]
        }
      ],
      "source": [
        "# 1. Separate target and features\n",
        "y_train = train['pm2.5']\n",
        "# Make sure to include the new features in X_train\n",
        "X_train = train.drop(['pm2.5', 'No'], axis=1) # Drop 'No' and the target\n",
        "\n",
        "# Drop 'No' from test set - X_test already has the new features from the step above\n",
        "X_test = test.drop(['No'], axis=1)\n",
        "\n",
        "# Ensure both have the same columns before processing (excluding target)\n",
        "train_cols = X_train.columns\n",
        "test_cols = X_test.columns\n",
        "if not train_cols.equals(test_cols):\n",
        "    X_test = X_test.reindex(columns=train_cols, fill_value=0)\n",
        "    print(\"\\nWarning: Test set columns reindexed to match training set columns.\")\n",
        "\n",
        "print(\"\\nFeatures for training after adding new features:\")\n",
        "print(X_train.columns)"
      ]
    },
    {
      "cell_type": "code",
      "execution_count": null,
      "metadata": {
        "colab": {
          "base_uri": "https://localhost:8080/"
        },
        "id": "wHyyd695F_4v",
        "outputId": "2e90bc11-08c7-4be2-cffd-6ebd3efcc373"
      },
      "outputs": [
        {
          "output_type": "stream",
          "name": "stdout",
          "text": [
            "\n",
            "Shape of processed training features: (30676, 31)\n",
            "Shape of processed test features: (13148, 31)\n",
            "Shape of scaled training target: (30676, 1)\n"
          ]
        }
      ],
      "source": [
        "# # Preprocessing Pipeline (Scaling and Encoding)\n",
        "# Identify numerical and categorical features\n",
        "numerical_features = X_train.select_dtypes(include=np.number).columns.tolist()\n",
        "categorical_features = ['dayofweek', 'month']\n",
        "# Ensure categorical_features are actually in the DataFrame columns\n",
        "categorical_features = [col for col in categorical_features if col in X_train.columns]\n",
        "numerical_features = [col for col in numerical_features if col not in categorical_features]\n",
        "\n",
        "\n",
        "# Create preprocessing pipelines for numerical and categorical features\n",
        "numerical_transformer = Pipeline(steps=[\n",
        "    ('scaler', MinMaxScaler())\n",
        "])\n",
        "\n",
        "categorical_transformer = Pipeline(steps=[\n",
        "    ('onehot', OneHotEncoder(handle_unknown='ignore'))\n",
        "])\n",
        "\n",
        "# Combine preprocessing steps using ColumnTransformer\n",
        "preprocessor = ColumnTransformer(\n",
        "    transformers=[\n",
        "        ('num', numerical_transformer, numerical_features),\n",
        "        ('cat', categorical_transformer, categorical_features)\n",
        "    ],\n",
        "    remainder='passthrough'\n",
        ")\n",
        "\n",
        "# Fit the preprocessor on the training data and transform both training and testing data\n",
        "X_train_processed = preprocessor.fit_transform(X_train)\n",
        "X_test_processed = preprocessor.transform(X_test)\n",
        "\n",
        "# Scale the target variable\n",
        "scaler_y = MinMaxScaler()\n",
        "y_train_scaled = scaler_y.fit_transform(y_train.values.reshape(-1, 1))\n",
        "\n",
        "print(\"\\nShape of processed training features:\", X_train_processed.shape)\n",
        "print(\"Shape of processed test features:\", X_test_processed.shape)\n",
        "print(\"Shape of scaled training target:\", y_train_scaled.shape)"
      ]
    },
    {
      "cell_type": "code",
      "execution_count": null,
      "metadata": {
        "colab": {
          "base_uri": "https://localhost:8080/"
        },
        "id": "KPljXkN65_Ts",
        "outputId": "62f03eb9-f7f1-4b04-ccc4-e53677b4a279"
      },
      "outputs": [
        {
          "output_type": "stream",
          "name": "stdout",
          "text": [
            "\n",
            "Shape of LSTM input sequences (X_lstm): (30604, 72, 31)\n",
            "Shape of LSTM target (y_lstm): (30604, 1)\n",
            "\n",
            "Shape of LSTM input sequences (X_test_lstm) for prediction: (13148, 72, 31)\n"
          ]
        }
      ],
      "source": [
        "# # Create Time Series Sequences for LSTM\n",
        "\n",
        "\n",
        "def create_sequences(X, y, time_steps=1):\n",
        "    Xs, ys = [], []\n",
        "    for i in range(len(X) - time_steps):\n",
        "        v = X[i:(i + time_steps)]\n",
        "        Xs.append(v)\n",
        "        ys.append(y[i + time_steps])\n",
        "    return np.array(Xs), np.array(ys)\n",
        "\n",
        "# Define the number of time steps (look-back period)\n",
        "TIME_STEPS = 72\n",
        "\n",
        "X_lstm, y_lstm = create_sequences(X_train_processed, y_train_scaled, time_steps=TIME_STEPS)\n",
        "\n",
        "print(\"\\nShape of LSTM input sequences (X_lstm):\", X_lstm.shape)\n",
        "print(\"Shape of LSTM target (y_lstm):\", y_lstm.shape)\n",
        "\n",
        "# For the test set, I need to create sequences for prediction.\n",
        "\n",
        "combined_data_processed = np.concatenate((X_train_processed[-TIME_STEPS:], X_test_processed), axis=0)\n",
        "\n",
        "# Create sequences for the test set\n",
        "X_test_lstm, _ = create_sequences(combined_data_processed, np.zeros(combined_data_processed.shape[0]), time_steps=TIME_STEPS)\n",
        "\n",
        "\n",
        "print(\"\\nShape of LSTM input sequences (X_test_lstm) for prediction:\", X_test_lstm.shape)"
      ]
    },
    {
      "cell_type": "markdown",
      "metadata": {
        "id": "d488782wuR2W"
      },
      "source": [
        "# Build model\n",
        "\n",
        "Below is a simple LSTM model. Your task is to experiment with different parameters like, numbers of layers, units, activation functions, and optimizers, etc to get the best performing model. Experiment with other optimizers (e.g., SGD) or hyperparameters to improve performance."
      ]
    },
    {
      "cell_type": "code",
      "execution_count": null,
      "metadata": {
        "colab": {
          "base_uri": "https://localhost:8080/",
          "height": 377
        },
        "id": "mfx2LPHxq5fG",
        "outputId": "c42ac676-c626-4bf8-cfbc-f9f049e79463"
      },
      "outputs": [
        {
          "output_type": "stream",
          "name": "stderr",
          "text": [
            "/usr/local/lib/python3.11/dist-packages/keras/src/layers/rnn/bidirectional.py:107: UserWarning: Do not pass an `input_shape`/`input_dim` argument to a layer. When using Sequential models, prefer using an `Input(shape)` object as the first layer in the model instead.\n",
            "  super().__init__(**kwargs)\n"
          ]
        },
        {
          "output_type": "display_data",
          "data": {
            "text/plain": [
              "\u001b[1mModel: \"sequential\"\u001b[0m\n"
            ],
            "text/html": [
              "<pre style=\"white-space:pre;overflow-x:auto;line-height:normal;font-family:Menlo,'DejaVu Sans Mono',consolas,'Courier New',monospace\"><span style=\"font-weight: bold\">Model: \"sequential\"</span>\n",
              "</pre>\n"
            ]
          },
          "metadata": {}
        },
        {
          "output_type": "display_data",
          "data": {
            "text/plain": [
              "┏━━━━━━━━━━━━━━━━━━━━━━━━━━━━━━━━━┳━━━━━━━━━━━━━━━━━━━━━━━━┳━━━━━━━━━━━━━━━┓\n",
              "┃\u001b[1m \u001b[0m\u001b[1mLayer (type)                   \u001b[0m\u001b[1m \u001b[0m┃\u001b[1m \u001b[0m\u001b[1mOutput Shape          \u001b[0m\u001b[1m \u001b[0m┃\u001b[1m \u001b[0m\u001b[1m      Param #\u001b[0m\u001b[1m \u001b[0m┃\n",
              "┡━━━━━━━━━━━━━━━━━━━━━━━━━━━━━━━━━╇━━━━━━━━━━━━━━━━━━━━━━━━╇━━━━━━━━━━━━━━━┩\n",
              "│ bidirectional (\u001b[38;5;33mBidirectional\u001b[0m)   │ (\u001b[38;5;45mNone\u001b[0m, \u001b[38;5;34m72\u001b[0m, \u001b[38;5;34m256\u001b[0m)        │       \u001b[38;5;34m163,840\u001b[0m │\n",
              "├─────────────────────────────────┼────────────────────────┼───────────────┤\n",
              "│ dropout (\u001b[38;5;33mDropout\u001b[0m)               │ (\u001b[38;5;45mNone\u001b[0m, \u001b[38;5;34m72\u001b[0m, \u001b[38;5;34m256\u001b[0m)        │             \u001b[38;5;34m0\u001b[0m │\n",
              "├─────────────────────────────────┼────────────────────────┼───────────────┤\n",
              "│ lstm_1 (\u001b[38;5;33mLSTM\u001b[0m)                   │ (\u001b[38;5;45mNone\u001b[0m, \u001b[38;5;34m64\u001b[0m)             │        \u001b[38;5;34m82,176\u001b[0m │\n",
              "├─────────────────────────────────┼────────────────────────┼───────────────┤\n",
              "│ dropout_1 (\u001b[38;5;33mDropout\u001b[0m)             │ (\u001b[38;5;45mNone\u001b[0m, \u001b[38;5;34m64\u001b[0m)             │             \u001b[38;5;34m0\u001b[0m │\n",
              "├─────────────────────────────────┼────────────────────────┼───────────────┤\n",
              "│ dense (\u001b[38;5;33mDense\u001b[0m)                   │ (\u001b[38;5;45mNone\u001b[0m, \u001b[38;5;34m32\u001b[0m)             │         \u001b[38;5;34m2,080\u001b[0m │\n",
              "├─────────────────────────────────┼────────────────────────┼───────────────┤\n",
              "│ dense_1 (\u001b[38;5;33mDense\u001b[0m)                 │ (\u001b[38;5;45mNone\u001b[0m, \u001b[38;5;34m1\u001b[0m)              │            \u001b[38;5;34m33\u001b[0m │\n",
              "└─────────────────────────────────┴────────────────────────┴───────────────┘\n"
            ],
            "text/html": [
              "<pre style=\"white-space:pre;overflow-x:auto;line-height:normal;font-family:Menlo,'DejaVu Sans Mono',consolas,'Courier New',monospace\">┏━━━━━━━━━━━━━━━━━━━━━━━━━━━━━━━━━┳━━━━━━━━━━━━━━━━━━━━━━━━┳━━━━━━━━━━━━━━━┓\n",
              "┃<span style=\"font-weight: bold\"> Layer (type)                    </span>┃<span style=\"font-weight: bold\"> Output Shape           </span>┃<span style=\"font-weight: bold\">       Param # </span>┃\n",
              "┡━━━━━━━━━━━━━━━━━━━━━━━━━━━━━━━━━╇━━━━━━━━━━━━━━━━━━━━━━━━╇━━━━━━━━━━━━━━━┩\n",
              "│ bidirectional (<span style=\"color: #0087ff; text-decoration-color: #0087ff\">Bidirectional</span>)   │ (<span style=\"color: #00d7ff; text-decoration-color: #00d7ff\">None</span>, <span style=\"color: #00af00; text-decoration-color: #00af00\">72</span>, <span style=\"color: #00af00; text-decoration-color: #00af00\">256</span>)        │       <span style=\"color: #00af00; text-decoration-color: #00af00\">163,840</span> │\n",
              "├─────────────────────────────────┼────────────────────────┼───────────────┤\n",
              "│ dropout (<span style=\"color: #0087ff; text-decoration-color: #0087ff\">Dropout</span>)               │ (<span style=\"color: #00d7ff; text-decoration-color: #00d7ff\">None</span>, <span style=\"color: #00af00; text-decoration-color: #00af00\">72</span>, <span style=\"color: #00af00; text-decoration-color: #00af00\">256</span>)        │             <span style=\"color: #00af00; text-decoration-color: #00af00\">0</span> │\n",
              "├─────────────────────────────────┼────────────────────────┼───────────────┤\n",
              "│ lstm_1 (<span style=\"color: #0087ff; text-decoration-color: #0087ff\">LSTM</span>)                   │ (<span style=\"color: #00d7ff; text-decoration-color: #00d7ff\">None</span>, <span style=\"color: #00af00; text-decoration-color: #00af00\">64</span>)             │        <span style=\"color: #00af00; text-decoration-color: #00af00\">82,176</span> │\n",
              "├─────────────────────────────────┼────────────────────────┼───────────────┤\n",
              "│ dropout_1 (<span style=\"color: #0087ff; text-decoration-color: #0087ff\">Dropout</span>)             │ (<span style=\"color: #00d7ff; text-decoration-color: #00d7ff\">None</span>, <span style=\"color: #00af00; text-decoration-color: #00af00\">64</span>)             │             <span style=\"color: #00af00; text-decoration-color: #00af00\">0</span> │\n",
              "├─────────────────────────────────┼────────────────────────┼───────────────┤\n",
              "│ dense (<span style=\"color: #0087ff; text-decoration-color: #0087ff\">Dense</span>)                   │ (<span style=\"color: #00d7ff; text-decoration-color: #00d7ff\">None</span>, <span style=\"color: #00af00; text-decoration-color: #00af00\">32</span>)             │         <span style=\"color: #00af00; text-decoration-color: #00af00\">2,080</span> │\n",
              "├─────────────────────────────────┼────────────────────────┼───────────────┤\n",
              "│ dense_1 (<span style=\"color: #0087ff; text-decoration-color: #0087ff\">Dense</span>)                 │ (<span style=\"color: #00d7ff; text-decoration-color: #00d7ff\">None</span>, <span style=\"color: #00af00; text-decoration-color: #00af00\">1</span>)              │            <span style=\"color: #00af00; text-decoration-color: #00af00\">33</span> │\n",
              "└─────────────────────────────────┴────────────────────────┴───────────────┘\n",
              "</pre>\n"
            ]
          },
          "metadata": {}
        },
        {
          "output_type": "display_data",
          "data": {
            "text/plain": [
              "\u001b[1m Total params: \u001b[0m\u001b[38;5;34m248,129\u001b[0m (969.25 KB)\n"
            ],
            "text/html": [
              "<pre style=\"white-space:pre;overflow-x:auto;line-height:normal;font-family:Menlo,'DejaVu Sans Mono',consolas,'Courier New',monospace\"><span style=\"font-weight: bold\"> Total params: </span><span style=\"color: #00af00; text-decoration-color: #00af00\">248,129</span> (969.25 KB)\n",
              "</pre>\n"
            ]
          },
          "metadata": {}
        },
        {
          "output_type": "display_data",
          "data": {
            "text/plain": [
              "\u001b[1m Trainable params: \u001b[0m\u001b[38;5;34m248,129\u001b[0m (969.25 KB)\n"
            ],
            "text/html": [
              "<pre style=\"white-space:pre;overflow-x:auto;line-height:normal;font-family:Menlo,'DejaVu Sans Mono',consolas,'Courier New',monospace\"><span style=\"font-weight: bold\"> Trainable params: </span><span style=\"color: #00af00; text-decoration-color: #00af00\">248,129</span> (969.25 KB)\n",
              "</pre>\n"
            ]
          },
          "metadata": {}
        },
        {
          "output_type": "display_data",
          "data": {
            "text/plain": [
              "\u001b[1m Non-trainable params: \u001b[0m\u001b[38;5;34m0\u001b[0m (0.00 B)\n"
            ],
            "text/html": [
              "<pre style=\"white-space:pre;overflow-x:auto;line-height:normal;font-family:Menlo,'DejaVu Sans Mono',consolas,'Courier New',monospace\"><span style=\"font-weight: bold\"> Non-trainable params: </span><span style=\"color: #00af00; text-decoration-color: #00af00\">0</span> (0.00 B)\n",
              "</pre>\n"
            ]
          },
          "metadata": {}
        }
      ],
      "source": [
        "# Build LSTM Model Architecture\n",
        "model = Sequential([\n",
        "    LSTM(256, return_sequences=True, activation='tanh', input_shape=(X_lstm.shape[1], X_lstm.shape[2])),\n",
        "    Dropout(0.3),\n",
        "    LSTM(128, return_sequences=False, activation='tanh'),\n",
        "    Dropout(0.3),\n",
        "    Dense(64, activation='relu'),\n",
        "    Dense(1)\n",
        "])\n",
        "\n",
        "# Compile the model\n",
        "adam_optimizer = tf.keras.optimizers.Adam(learning_rate=0.0001)\n",
        "model.compile(\n",
        "    optimizer=adam_optimizer,\n",
        "    loss='mse',\n",
        "    metrics=[tf.keras.metrics.RootMeanSquaredError()]\n",
        ")\n",
        "\n",
        "# Display the model architecture\n",
        "model.summary()"
      ]
    },
    {
      "cell_type": "code",
      "execution_count": null,
      "metadata": {
        "colab": {
          "base_uri": "https://localhost:8080/"
        },
        "id": "wIkxlYNRHYtd",
        "outputId": "163e3f8d-db5b-41b3-885f-56f806b85caf"
      },
      "outputs": [
        {
          "output_type": "stream",
          "name": "stdout",
          "text": [
            "\n",
            "Shape of training split for the last fold: (25504, 72, 31)\n",
            "Shape of validation split for the last fold: (5100, 72, 31)\n"
          ]
        }
      ],
      "source": [
        "# # Train the Model with Time Series Split Validation\n",
        "# Use TimeSeriesSplit for validation\n",
        "tscv = TimeSeriesSplit(n_splits=5)\n",
        "\n",
        "# We'll use the last split for training and validation\n",
        "for train_index, val_index in tscv.split(X_lstm):\n",
        "    X_train_split, X_val_split = X_lstm[train_index], X_lstm[val_index]\n",
        "    y_train_split, y_val_split = y_lstm[train_index], y_lstm[val_index]\n",
        "\n",
        "print(f\"\\nShape of training split for the last fold: {X_train_split.shape}\")\n",
        "print(f\"Shape of validation split for the last fold: {X_val_split.shape}\")\n",
        "\n",
        "\n",
        "early_stopping = EarlyStopping(monitor='val_loss', patience=3, restore_best_weights=True)\n",
        "\n"
      ]
    },
    {
      "cell_type": "code",
      "execution_count": null,
      "metadata": {
        "colab": {
          "base_uri": "https://localhost:8080/"
        },
        "id": "uM0Xuq7XvdTZ",
        "outputId": "007ae199-2f7d-4bbd-e8b6-193ac699c8fa"
      },
      "outputs": [
        {
          "output_type": "stream",
          "name": "stdout",
          "text": [
            "Epoch 1/20\n",
            "\u001b[1m797/797\u001b[0m \u001b[32m━━━━━━━━━━━━━━━━━━━━\u001b[0m\u001b[37m\u001b[0m \u001b[1m205s\u001b[0m 250ms/step - loss: 0.0936 - root_mean_squared_error: 0.0998 - val_loss: 0.0354 - val_root_mean_squared_error: 0.1048\n",
            "Epoch 2/20\n",
            "\u001b[1m797/797\u001b[0m \u001b[32m━━━━━━━━━━━━━━━━━━━━\u001b[0m\u001b[37m\u001b[0m \u001b[1m211s\u001b[0m 262ms/step - loss: 0.0241 - root_mean_squared_error: 0.0741 - val_loss: 0.0182 - val_root_mean_squared_error: 0.0967\n",
            "Epoch 3/20\n",
            "\u001b[1m797/797\u001b[0m \u001b[32m━━━━━━━━━━━━━━━━━━━━\u001b[0m\u001b[37m\u001b[0m \u001b[1m263s\u001b[0m 263ms/step - loss: 0.0123 - root_mean_squared_error: 0.0683 - val_loss: 0.0119 - val_root_mean_squared_error: 0.0832\n",
            "Epoch 4/20\n",
            "\u001b[1m797/797\u001b[0m \u001b[32m━━━━━━━━━━━━━━━━━━━━\u001b[0m\u001b[37m\u001b[0m \u001b[1m255s\u001b[0m 254ms/step - loss: 0.0088 - root_mean_squared_error: 0.0654 - val_loss: 0.0110 - val_root_mean_squared_error: 0.0880\n",
            "Epoch 5/20\n",
            "\u001b[1m797/797\u001b[0m \u001b[32m━━━━━━━━━━━━━━━━━━━━\u001b[0m\u001b[37m\u001b[0m \u001b[1m270s\u001b[0m 264ms/step - loss: 0.0071 - root_mean_squared_error: 0.0638 - val_loss: 0.0091 - val_root_mean_squared_error: 0.0824\n",
            "Epoch 6/20\n",
            "\u001b[1m797/797\u001b[0m \u001b[32m━━━━━━━━━━━━━━━━━━━━\u001b[0m\u001b[37m\u001b[0m \u001b[1m262s\u001b[0m 264ms/step - loss: 0.0062 - root_mean_squared_error: 0.0635 - val_loss: 0.0091 - val_root_mean_squared_error: 0.0855\n",
            "Epoch 7/20\n",
            "\u001b[1m797/797\u001b[0m \u001b[32m━━━━━━━━━━━━━━━━━━━━\u001b[0m\u001b[37m\u001b[0m \u001b[1m254s\u001b[0m 255ms/step - loss: 0.0054 - root_mean_squared_error: 0.0610 - val_loss: 0.0084 - val_root_mean_squared_error: 0.0833\n",
            "Epoch 8/20\n",
            "\u001b[1m797/797\u001b[0m \u001b[32m━━━━━━━━━━━━━━━━━━━━\u001b[0m\u001b[37m\u001b[0m \u001b[1m267s\u001b[0m 261ms/step - loss: 0.0051 - root_mean_squared_error: 0.0610 - val_loss: 0.0078 - val_root_mean_squared_error: 0.0810\n",
            "Epoch 9/20\n",
            "\u001b[1m797/797\u001b[0m \u001b[32m━━━━━━━━━━━━━━━━━━━━\u001b[0m\u001b[37m\u001b[0m \u001b[1m261s\u001b[0m 259ms/step - loss: 0.0047 - root_mean_squared_error: 0.0592 - val_loss: 0.0081 - val_root_mean_squared_error: 0.0841\n",
            "Epoch 10/20\n",
            "\u001b[1m797/797\u001b[0m \u001b[32m━━━━━━━━━━━━━━━━━━━━\u001b[0m\u001b[37m\u001b[0m \u001b[1m255s\u001b[0m 251ms/step - loss: 0.0044 - root_mean_squared_error: 0.0581 - val_loss: 0.0093 - val_root_mean_squared_error: 0.0916\n",
            "Epoch 11/20\n",
            "\u001b[1m797/797\u001b[0m \u001b[32m━━━━━━━━━━━━━━━━━━━━\u001b[0m\u001b[37m\u001b[0m \u001b[1m212s\u001b[0m 263ms/step - loss: 0.0043 - root_mean_squared_error: 0.0585 - val_loss: 0.0081 - val_root_mean_squared_error: 0.0854\n"
          ]
        }
      ],
      "source": [
        "# Train the model\n",
        "history = model.fit(\n",
        "    X_train_split, y_train_split,\n",
        "    epochs=100,\n",
        "    batch_size=128,\n",
        "    callbacks=[early_stopping],\n",
        "    validation_data=(X_val_split, y_val_split)\n",
        ")"
      ]
    },
    {
      "cell_type": "code",
      "execution_count": null,
      "metadata": {
        "id": "NKxlO7SmxFpU",
        "colab": {
          "base_uri": "https://localhost:8080/",
          "height": 564
        },
        "outputId": "a2747773-3c41-4f67-8e98-536c40c19484"
      },
      "outputs": [
        {
          "output_type": "display_data",
          "data": {
            "text/plain": [
              "<Figure size 1000x600 with 1 Axes>"
            ],
            "image/png": "[encoded data removed]"
          },
          "metadata": {}
        }
      ],
      "source": [
        "\n",
        "# Plot training and validation loss\n",
        "plt.figure(figsize=(10, 6))\n",
        "plt.plot(history.history['loss'], label='Training Loss')\n",
        "plt.plot(history.history['val_loss'], label='Validation Loss')\n",
        "plt.title('Model Loss During Training')\n",
        "plt.xlabel('Epochs')\n",
        "plt.ylabel('Loss (MSE)')\n",
        "plt.legend()\n",
        "plt.grid(True)\n",
        "plt.show()"
      ]
    },
    {
      "cell_type": "code",
      "execution_count": null,
      "metadata": {
        "id": "Nrw_e7OVwe6R",
        "colab": {
          "base_uri": "https://localhost:8080/"
        },
        "outputId": "49784e01-b8b8-42df-9114-a743d752a7c9"
      },
      "outputs": [
        {
          "output_type": "stream",
          "name": "stdout",
          "text": [
            "\u001b[1m411/411\u001b[0m \u001b[32m━━━━━━━━━━━━━━━━━━━━\u001b[0m\u001b[37m\u001b[0m \u001b[1m34s\u001b[0m 82ms/step\n"
          ]
        }
      ],
      "source": [
        "\n",
        "# Make predictions on the test set\n",
        "predictions_scaled = model.predict(X_test_lstm)\n",
        "\n",
        "# Inverse transform the predictions to the original scale\n",
        "predictions = scaler_y.inverse_transform(predictions_scaled)\n",
        "\n",
        "# Ensure predictions do not contain NaN values and convert to integers\n",
        "predictions = np.nan_to_num(predictions)\n",
        "predictions = np.round(predictions).astype(int)\n",
        "\n",
        "# Prepare the submission file\n",
        "# The row IDs for the submission are simply the datetime index of the test set.\n",
        "submission = pd.DataFrame({\n",
        "    'row ID': test.index.strftime('%Y-%m-%d %-H:%M:%S'),\n",
        "    'pm2.5': predictions.flatten()\n",
        "})\n",
        "\n",
        "# Save the file in CSV format for submission on Kaggle\n",
        "submission.to_csv('/content/drive/MyDrive/Kaggle_competition_ML/air_quality_forcasting/subm_fixed.csv', index=False)\n"
      ]
    },
    {
      "cell_type": "code",
      "execution_count": null,
      "metadata": {
        "id": "-zHkgMiStTA4",
        "colab": {
          "base_uri": "https://localhost:8080/"
        },
        "outputId": "675fab60-278c-4fc2-d933-deed4afecc08"
      },
      "outputs": [
        {
          "output_type": "stream",
          "name": "stdout",
          "text": [
            "\u001b[1m160/160\u001b[0m \u001b[32m━━━━━━━━━━━━━━━━━━━━\u001b[0m\u001b[37m\u001b[0m \u001b[1m12s\u001b[0m 76ms/step\n",
            "\n",
            "Validation RMSE: 80.46703281869337\n"
          ]
        }
      ],
      "source": [
        "# Make predictions on the validation data split used in the last training fold\n",
        "val_predictions_scaled = model.predict(X_val_split)\n",
        "\n",
        "# Inverse transform the validation predictions to the original scale\n",
        "val_predictions = scaler_y.inverse_transform(val_predictions_scaled)\n",
        "\n",
        "# Inverse transform the validation actuals for comparison\n",
        "y_val_split_original = scaler_y.inverse_transform(y_val_split)\n",
        "\n",
        "# Calculate RMSE on the validation data\n",
        "val_rmse = np.sqrt(mean_squared_error(y_val_split_original, val_predictions))\n",
        "\n",
        "print(f\"\\nValidation RMSE: {val_rmse}\")"
      ]
    }
  ],
  "metadata": {
    "colab": {
      "provenance": [],
      "include_colab_link": true
    },
    "kernelspec": {
      "display_name": "Python 3",
      "name": "python3"
    },
    "language_info": {
      "name": "python"
    }
  },
  "nbformat": 4,
  "nbformat_minor": 0
}